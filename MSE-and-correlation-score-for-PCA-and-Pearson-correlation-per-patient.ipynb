{
 "cells": [
  {
   "cell_type": "markdown",
   "id": "bdecbfcd",
   "metadata": {
    "papermill": {
     "duration": 0.00531,
     "end_time": "2022-12-21T03:09:15.550955",
     "exception": false,
     "start_time": "2022-12-21T03:09:15.545645",
     "status": "completed"
    },
    "tags": []
   },
   "source": [
    "# 1. Importation of packages and metrics functions"
   ]
  },
  {
   "cell_type": "code",
   "execution_count": 1,
   "id": "ca7dba17",
   "metadata": {
    "_cell_guid": "b1076dfc-b9ad-4769-8c92-a6c4dae69d19",
    "_uuid": "8f2839f25d086af736a60e9eeb907d3b93b6e0e5",
    "execution": {
     "iopub.execute_input": "2022-12-21T03:09:15.562876Z",
     "iopub.status.busy": "2022-12-21T03:09:15.562035Z",
     "iopub.status.idle": "2022-12-21T03:09:27.411313Z",
     "shell.execute_reply": "2022-12-21T03:09:27.410371Z"
    },
    "papermill": {
     "duration": 11.858003,
     "end_time": "2022-12-21T03:09:27.413597",
     "exception": false,
     "start_time": "2022-12-21T03:09:15.555594",
     "status": "completed"
    },
    "tags": []
   },
   "outputs": [
    {
     "name": "stdout",
     "output_type": "stream",
     "text": [
      "Collecting mplscience\r\n",
      "  Downloading mplscience-0.0.5-py3-none-any.whl (4.8 kB)\r\n",
      "Collecting importlib-metadata<2.0,>=1.0\r\n",
      "  Downloading importlib_metadata-1.7.0-py2.py3-none-any.whl (31 kB)\r\n",
      "Requirement already satisfied: seaborn in /opt/conda/lib/python3.7/site-packages (from mplscience) (0.11.2)\r\n",
      "Requirement already satisfied: matplotlib in /opt/conda/lib/python3.7/site-packages (from mplscience) (3.5.3)\r\n",
      "Requirement already satisfied: zipp>=0.5 in /opt/conda/lib/python3.7/site-packages (from importlib-metadata<2.0,>=1.0->mplscience) (3.8.0)\r\n",
      "Requirement already satisfied: pyparsing>=2.2.1 in /opt/conda/lib/python3.7/site-packages (from matplotlib->mplscience) (3.0.9)\r\n",
      "Requirement already satisfied: python-dateutil>=2.7 in /opt/conda/lib/python3.7/site-packages (from matplotlib->mplscience) (2.8.2)\r\n",
      "Requirement already satisfied: numpy>=1.17 in /opt/conda/lib/python3.7/site-packages (from matplotlib->mplscience) (1.21.6)\r\n",
      "Requirement already satisfied: packaging>=20.0 in /opt/conda/lib/python3.7/site-packages (from matplotlib->mplscience) (21.3)\r\n",
      "Requirement already satisfied: fonttools>=4.22.0 in /opt/conda/lib/python3.7/site-packages (from matplotlib->mplscience) (4.33.3)\r\n",
      "Requirement already satisfied: cycler>=0.10 in /opt/conda/lib/python3.7/site-packages (from matplotlib->mplscience) (0.11.0)\r\n",
      "Requirement already satisfied: pillow>=6.2.0 in /opt/conda/lib/python3.7/site-packages (from matplotlib->mplscience) (9.1.1)\r\n",
      "Requirement already satisfied: kiwisolver>=1.0.1 in /opt/conda/lib/python3.7/site-packages (from matplotlib->mplscience) (1.4.3)\r\n",
      "Requirement already satisfied: scipy>=1.0 in /opt/conda/lib/python3.7/site-packages (from seaborn->mplscience) (1.7.3)\r\n",
      "Requirement already satisfied: pandas>=0.23 in /opt/conda/lib/python3.7/site-packages (from seaborn->mplscience) (1.3.5)\r\n",
      "Requirement already satisfied: typing-extensions in /opt/conda/lib/python3.7/site-packages (from kiwisolver>=1.0.1->matplotlib->mplscience) (4.4.0)\r\n",
      "Requirement already satisfied: pytz>=2017.3 in /opt/conda/lib/python3.7/site-packages (from pandas>=0.23->seaborn->mplscience) (2022.1)\r\n",
      "Requirement already satisfied: six>=1.5 in /opt/conda/lib/python3.7/site-packages (from python-dateutil>=2.7->matplotlib->mplscience) (1.15.0)\r\n",
      "Installing collected packages: importlib-metadata, mplscience\r\n",
      "  Attempting uninstall: importlib-metadata\r\n",
      "    Found existing installation: importlib-metadata 4.13.0\r\n",
      "    Uninstalling importlib-metadata-4.13.0:\r\n",
      "      Successfully uninstalled importlib-metadata-4.13.0\r\n",
      "\u001b[31mERROR: pip's dependency resolver does not currently take into account all the packages that are installed. This behaviour is the source of the following dependency conflicts.\r\n",
      "markdown 3.3.7 requires importlib-metadata>=4.4; python_version < \"3.10\", but you have importlib-metadata 1.7.0 which is incompatible.\r\n",
      "keyring 23.6.0 requires importlib-metadata>=3.6; python_version < \"3.10\", but you have importlib-metadata 1.7.0 which is incompatible.\r\n",
      "ibis-framework 2.1.1 requires importlib-metadata<5,>=4; python_version < \"3.8\", but you have importlib-metadata 1.7.0 which is incompatible.\r\n",
      "gym 0.26.2 requires importlib-metadata>=4.8.0; python_version < \"3.10\", but you have importlib-metadata 1.7.0 which is incompatible.\r\n",
      "flask 2.2.2 requires importlib-metadata>=3.6.0; python_version < \"3.10\", but you have importlib-metadata 1.7.0 which is incompatible.\r\n",
      "allennlp 2.10.0 requires protobuf==3.20.0, but you have protobuf 3.19.4 which is incompatible.\u001b[0m\u001b[31m\r\n",
      "\u001b[0mSuccessfully installed importlib-metadata-1.7.0 mplscience-0.0.5\r\n",
      "\u001b[33mWARNING: Running pip as the 'root' user can result in broken permissions and conflicting behaviour with the system package manager. It is recommended to use a virtual environment instead: https://pip.pypa.io/warnings/venv\u001b[0m\u001b[33m\r\n",
      "\u001b[0m"
     ]
    }
   ],
   "source": [
    "!pip install mplscience\n",
    "import numpy as np\n",
    "import pandas as pd\n",
    "from sklearn.metrics import mean_squared_error\n",
    "import pandas as pd\n",
    "import numpy as np\n",
    "import matplotlib.pyplot as plt\n",
    "import mplscience"
   ]
  },
  {
   "cell_type": "code",
   "execution_count": 2,
   "id": "fcfe2933",
   "metadata": {
    "execution": {
     "iopub.execute_input": "2022-12-21T03:09:27.424992Z",
     "iopub.status.busy": "2022-12-21T03:09:27.424711Z",
     "iopub.status.idle": "2022-12-21T03:09:27.429103Z",
     "shell.execute_reply": "2022-12-21T03:09:27.428266Z"
    },
    "papermill": {
     "duration": 0.012433,
     "end_time": "2022-12-21T03:09:27.431412",
     "exception": false,
     "start_time": "2022-12-21T03:09:27.418979",
     "status": "completed"
    },
    "tags": []
   },
   "outputs": [
    {
     "name": "stdout",
     "output_type": "stream",
     "text": [
      "['default', 'despine']\n"
     ]
    }
   ],
   "source": [
    "mplscience.available_styles()\n",
    "mplscience.set_style()"
   ]
  },
  {
   "cell_type": "code",
   "execution_count": 3,
   "id": "57962cde",
   "metadata": {
    "execution": {
     "iopub.execute_input": "2022-12-21T03:09:27.442989Z",
     "iopub.status.busy": "2022-12-21T03:09:27.442735Z",
     "iopub.status.idle": "2022-12-21T03:09:27.448883Z",
     "shell.execute_reply": "2022-12-21T03:09:27.447672Z"
    },
    "papermill": {
     "duration": 0.013669,
     "end_time": "2022-12-21T03:09:27.450599",
     "exception": false,
     "start_time": "2022-12-21T03:09:27.436930",
     "status": "completed"
    },
    "tags": []
   },
   "outputs": [],
   "source": [
    "def correlation_score(y_true, y_pred):\n",
    "    \"\"\"Scores the predictions according to the competition rules. \n",
    "    \n",
    "    It is assumed that the predictions are not constant.\n",
    "    \n",
    "    Returns the average of each sample's Pearson correlation coefficient\"\"\"\n",
    "    if type(y_true) == pd.DataFrame: y_true = y_true.values\n",
    "    if type(y_pred) == pd.DataFrame: y_pred = y_pred.values\n",
    "    corrsum = 0\n",
    "    for i in range(len(y_true)):\n",
    "        corrsum += np.corrcoef(y_true[i], y_pred[i])[1, 0]\n",
    "    return corrsum / len(y_true)"
   ]
  },
  {
   "cell_type": "markdown",
   "id": "8ac39943",
   "metadata": {
    "papermill": {
     "duration": 0.00486,
     "end_time": "2022-12-21T03:09:27.460528",
     "exception": false,
     "start_time": "2022-12-21T03:09:27.455668",
     "status": "completed"
    },
    "tags": []
   },
   "source": [
    "# 2. PCA per patient model"
   ]
  },
  {
   "cell_type": "markdown",
   "id": "4ea6a757",
   "metadata": {
    "papermill": {
     "duration": 0.004741,
     "end_time": "2022-12-21T03:09:27.470230",
     "exception": false,
     "start_time": "2022-12-21T03:09:27.465489",
     "status": "completed"
    },
    "tags": []
   },
   "source": [
    "## 2.1. Importation of the results' files"
   ]
  },
  {
   "cell_type": "code",
   "execution_count": 4,
   "id": "2e3257d9",
   "metadata": {
    "execution": {
     "iopub.execute_input": "2022-12-21T03:09:27.481770Z",
     "iopub.status.busy": "2022-12-21T03:09:27.481322Z",
     "iopub.status.idle": "2022-12-21T03:09:28.832956Z",
     "shell.execute_reply": "2022-12-21T03:09:28.832034Z"
    },
    "papermill": {
     "duration": 1.359701,
     "end_time": "2022-12-21T03:09:28.835041",
     "exception": false,
     "start_time": "2022-12-21T03:09:27.475340",
     "status": "completed"
    },
    "tags": []
   },
   "outputs": [],
   "source": [
    "test_preds_PCA_1 = np.load(\"/kaggle/input/openproblemdataquentinchappat/PCA per patient/1/test_preds_PCA_1.npy\")\n",
    "test_va_PCA_1 = np.load(\"/kaggle/input/openproblemdataquentinchappat/PCA per patient/1/test_va_PCA_1.npy\")\n",
    "train_preds_PCA_1 = np.load(\"/kaggle/input/openproblemdataquentinchappat/PCA per patient/1/train_preds_PCA_1.npy\")\n",
    "train_va_PCA_1 = np.load(\"/kaggle/input/openproblemdataquentinchappat/PCA per patient/1/train_va_PCA_1.npy\")\n",
    "test_preds_PCA_2 = np.load(\"/kaggle/input/openproblemdataquentinchappat/PCA per patient/2/test_preds_PCA_2.npy\")\n",
    "test_va_PCA_2 = np.load(\"/kaggle/input/openproblemdataquentinchappat/PCA per patient/2/test_va_PCA_2.npy\")\n",
    "train_preds_PCA_2 = np.load(\"/kaggle/input/openproblemdataquentinchappat/PCA per patient/2/train_preds_PCA_2.npy\")\n",
    "train_va_PCA_2 = np.load(\"/kaggle/input/openproblemdataquentinchappat/PCA per patient/2/train_va_PCA_2.npy\")\n",
    "test_preds_PCA_3 = np.load(\"/kaggle/input/openproblemdataquentinchappat/PCA per patient/3/test_preds_PCA_3.npy\")\n",
    "test_va_PCA_3 = np.load(\"/kaggle/input/openproblemdataquentinchappat/PCA per patient/3/test_va_PCA_3.npy\")\n",
    "train_preds_PCA_3 = np.load(\"/kaggle/input/openproblemdataquentinchappat/PCA per patient/3/train_preds_PCA_3.npy\")\n",
    "train_va_PCA_3 = np.load(\"/kaggle/input/openproblemdataquentinchappat/PCA per patient/3/train_va_PCA_3.npy\")\n",
    "test_preds_PCA_4 = np.load(\"/kaggle/input/openproblemdataquentinchappat/PCA per patient/4/test_preds_PCA_4.npy\")\n",
    "test_va_PCA_4 = np.load(\"/kaggle/input/openproblemdataquentinchappat/PCA per patient/4/test_va_PCA_4.npy\")\n",
    "train_preds_PCA_4 = np.load(\"/kaggle/input/openproblemdataquentinchappat/PCA per patient/4/train_preds_PCA_4.npy\")\n",
    "train_va_PCA_4 = np.load(\"/kaggle/input/openproblemdataquentinchappat/PCA per patient/4/train_va_PCA_4.npy\")"
   ]
  },
  {
   "cell_type": "markdown",
   "id": "b7815bb5",
   "metadata": {
    "papermill": {
     "duration": 0.005968,
     "end_time": "2022-12-21T03:09:28.846373",
     "exception": false,
     "start_time": "2022-12-21T03:09:28.840405",
     "status": "completed"
    },
    "tags": []
   },
   "source": [
    "## 2.2. Concatenation of the results in one array"
   ]
  },
  {
   "cell_type": "code",
   "execution_count": 5,
   "id": "84e1b37b",
   "metadata": {
    "execution": {
     "iopub.execute_input": "2022-12-21T03:09:28.857675Z",
     "iopub.status.busy": "2022-12-21T03:09:28.857369Z",
     "iopub.status.idle": "2022-12-21T03:09:28.891390Z",
     "shell.execute_reply": "2022-12-21T03:09:28.890493Z"
    },
    "papermill": {
     "duration": 0.041963,
     "end_time": "2022-12-21T03:09:28.893321",
     "exception": false,
     "start_time": "2022-12-21T03:09:28.851358",
     "status": "completed"
    },
    "tags": []
   },
   "outputs": [],
   "source": [
    "test_preds_PCA = np.concatenate((test_preds_PCA_1, test_preds_PCA_2, test_preds_PCA_3, test_preds_PCA_4))\n",
    "test_va_PCA = np.concatenate((test_va_PCA_1, test_va_PCA_2, test_va_PCA_3, test_va_PCA_4))\n",
    "train_preds_PCA = np.concatenate((train_preds_PCA_1, train_preds_PCA_2, train_preds_PCA_3, train_preds_PCA_4))\n",
    "train_va_PCA = np.concatenate((train_va_PCA_1, train_va_PCA_2, train_va_PCA_3, train_va_PCA_4))"
   ]
  },
  {
   "cell_type": "markdown",
   "id": "c46a6e21",
   "metadata": {
    "papermill": {
     "duration": 0.004772,
     "end_time": "2022-12-21T03:09:28.903274",
     "exception": false,
     "start_time": "2022-12-21T03:09:28.898502",
     "status": "completed"
    },
    "tags": []
   },
   "source": [
    "## 2.3. Computation of the results"
   ]
  },
  {
   "cell_type": "code",
   "execution_count": 6,
   "id": "6f52dcd7",
   "metadata": {
    "execution": {
     "iopub.execute_input": "2022-12-21T03:09:28.914425Z",
     "iopub.status.busy": "2022-12-21T03:09:28.914133Z",
     "iopub.status.idle": "2022-12-21T03:09:29.027391Z",
     "shell.execute_reply": "2022-12-21T03:09:29.026491Z"
    },
    "papermill": {
     "duration": 0.121355,
     "end_time": "2022-12-21T03:09:29.029572",
     "exception": false,
     "start_time": "2022-12-21T03:09:28.908217",
     "status": "completed"
    },
    "tags": []
   },
   "outputs": [],
   "source": [
    "mse_train_PCA = mean_squared_error(train_va_PCA, train_preds_PCA)\n",
    "corrscore_train_PCA = correlation_score(train_va_PCA, train_preds_PCA)\n",
    "\n",
    "mse_test_PCA = mean_squared_error(test_va_PCA, test_preds_PCA)\n",
    "corrscore_test_PCA = correlation_score(test_va_PCA, test_preds_PCA)"
   ]
  },
  {
   "cell_type": "code",
   "execution_count": 7,
   "id": "b140579d",
   "metadata": {
    "execution": {
     "iopub.execute_input": "2022-12-21T03:09:29.041171Z",
     "iopub.status.busy": "2022-12-21T03:09:29.040565Z",
     "iopub.status.idle": "2022-12-21T03:09:29.044833Z",
     "shell.execute_reply": "2022-12-21T03:09:29.044284Z"
    },
    "papermill": {
     "duration": 0.011812,
     "end_time": "2022-12-21T03:09:29.046563",
     "exception": false,
     "start_time": "2022-12-21T03:09:29.034751",
     "status": "completed"
    },
    "tags": []
   },
   "outputs": [
    {
     "name": "stdout",
     "output_type": "stream",
     "text": [
      "The MSE train for PCA per patient model is: 2.175620334147274\n",
      "The correlation score train for PCA per patient model is: 0.4630287759184809\n",
      "The MSE test for PCA per patient model is: 2.8098649888187164\n",
      "The correlation score test for PCA per patient model is: 0.3615834370787006\n"
     ]
    }
   ],
   "source": [
    "print(\"The MSE train for PCA per patient model is:\", mse_train_PCA)\n",
    "print(\"The correlation score train for PCA per patient model is:\", corrscore_train_PCA)\n",
    "print(\"The MSE test for PCA per patient model is:\", mse_test_PCA)\n",
    "print(\"The correlation score test for PCA per patient model is:\", corrscore_test_PCA)"
   ]
  },
  {
   "cell_type": "markdown",
   "id": "cd1189a0",
   "metadata": {
    "papermill": {
     "duration": 0.00487,
     "end_time": "2022-12-21T03:09:29.056748",
     "exception": false,
     "start_time": "2022-12-21T03:09:29.051878",
     "status": "completed"
    },
    "tags": []
   },
   "source": [
    "# 3. Pearson correlation per patient model"
   ]
  },
  {
   "cell_type": "markdown",
   "id": "0553c6c5",
   "metadata": {
    "papermill": {
     "duration": 0.004829,
     "end_time": "2022-12-21T03:09:29.066705",
     "exception": false,
     "start_time": "2022-12-21T03:09:29.061876",
     "status": "completed"
    },
    "tags": []
   },
   "source": [
    "## 3.1. Importation of the results' files"
   ]
  },
  {
   "cell_type": "code",
   "execution_count": 8,
   "id": "f04d824a",
   "metadata": {
    "execution": {
     "iopub.execute_input": "2022-12-21T03:09:29.078378Z",
     "iopub.status.busy": "2022-12-21T03:09:29.077645Z",
     "iopub.status.idle": "2022-12-21T03:09:30.393119Z",
     "shell.execute_reply": "2022-12-21T03:09:30.392318Z"
    },
    "papermill": {
     "duration": 1.323666,
     "end_time": "2022-12-21T03:09:30.395375",
     "exception": false,
     "start_time": "2022-12-21T03:09:29.071709",
     "status": "completed"
    },
    "tags": []
   },
   "outputs": [],
   "source": [
    "test_preds_pearson_1 = np.load(\"/kaggle/input/openproblemdataquentinchappat/Pearson per patient/1/test_preds_pearson_1.npy\")\n",
    "test_va_pearson_1 = np.load(\"/kaggle/input/openproblemdataquentinchappat/Pearson per patient/1/test_va_pearson_1.npy\")\n",
    "train_preds_pearson_1 = np.load(\"/kaggle/input/openproblemdataquentinchappat/Pearson per patient/1/train_preds_pearson_1.npy\")\n",
    "train_va_pearson_1 = np.load(\"/kaggle/input/openproblemdataquentinchappat/Pearson per patient/1/train_va_pearson_1.npy\")\n",
    "test_preds_pearson_2 = np.load(\"/kaggle/input/openproblemdataquentinchappat/Pearson per patient/2/test_preds_pearson_2.npy\")\n",
    "test_va_pearson_2 = np.load(\"/kaggle/input/openproblemdataquentinchappat/Pearson per patient/2/test_va_pearson_2.npy\")\n",
    "train_preds_pearson_2 = np.load(\"/kaggle/input/openproblemdataquentinchappat/Pearson per patient/2/train_preds_pearson_2.npy\")\n",
    "train_va_pearson_2 = np.load(\"/kaggle/input/openproblemdataquentinchappat/Pearson per patient/2/train_va_pearson_2.npy\")\n",
    "test_preds_pearson_3 = np.load(\"/kaggle/input/openproblemdataquentinchappat/Pearson per patient/3/test_preds_pearson_3.npy\")\n",
    "test_va_pearson_3 = np.load(\"/kaggle/input/openproblemdataquentinchappat/Pearson per patient/3/test_va_pearson_3.npy\")\n",
    "train_preds_pearson_3 = np.load(\"/kaggle/input/openproblemdataquentinchappat/Pearson per patient/3/train_preds_pearson_3.npy\")\n",
    "train_va_pearson_3 = np.load(\"/kaggle/input/openproblemdataquentinchappat/Pearson per patient/3/train_va_pearson_3.npy\")"
   ]
  },
  {
   "cell_type": "markdown",
   "id": "888ee626",
   "metadata": {
    "papermill": {
     "duration": 0.005107,
     "end_time": "2022-12-21T03:09:30.405933",
     "exception": false,
     "start_time": "2022-12-21T03:09:30.400826",
     "status": "completed"
    },
    "tags": []
   },
   "source": [
    "## 3.2. Concatenation of the results in one array"
   ]
  },
  {
   "cell_type": "code",
   "execution_count": 9,
   "id": "3bdd4b7a",
   "metadata": {
    "execution": {
     "iopub.execute_input": "2022-12-21T03:09:30.418719Z",
     "iopub.status.busy": "2022-12-21T03:09:30.418384Z",
     "iopub.status.idle": "2022-12-21T03:09:30.454886Z",
     "shell.execute_reply": "2022-12-21T03:09:30.453413Z"
    },
    "papermill": {
     "duration": 0.045543,
     "end_time": "2022-12-21T03:09:30.457293",
     "exception": false,
     "start_time": "2022-12-21T03:09:30.411750",
     "status": "completed"
    },
    "tags": []
   },
   "outputs": [],
   "source": [
    "test_preds_pearson = np.concatenate((test_preds_pearson_1, test_preds_pearson_2, test_preds_pearson_3))\n",
    "test_va_pearson = np.concatenate((test_va_pearson_1, test_va_pearson_2, test_va_pearson_3))\n",
    "train_preds_pearson = np.concatenate((train_preds_pearson_1, train_preds_pearson_2, train_preds_pearson_3))\n",
    "train_va_pearson = np.concatenate((train_va_pearson_1, train_va_pearson_2, train_va_pearson_3))"
   ]
  },
  {
   "cell_type": "markdown",
   "id": "17ba4a05",
   "metadata": {
    "papermill": {
     "duration": 0.004959,
     "end_time": "2022-12-21T03:09:30.467731",
     "exception": false,
     "start_time": "2022-12-21T03:09:30.462772",
     "status": "completed"
    },
    "tags": []
   },
   "source": [
    "## 3.3. Computation of the results"
   ]
  },
  {
   "cell_type": "code",
   "execution_count": 10,
   "id": "729b6015",
   "metadata": {
    "execution": {
     "iopub.execute_input": "2022-12-21T03:09:30.479283Z",
     "iopub.status.busy": "2022-12-21T03:09:30.478950Z",
     "iopub.status.idle": "2022-12-21T03:09:30.586278Z",
     "shell.execute_reply": "2022-12-21T03:09:30.585277Z"
    },
    "papermill": {
     "duration": 0.115449,
     "end_time": "2022-12-21T03:09:30.588395",
     "exception": false,
     "start_time": "2022-12-21T03:09:30.472946",
     "status": "completed"
    },
    "tags": []
   },
   "outputs": [],
   "source": [
    "mse_train_pearson = mean_squared_error(train_va_pearson, train_preds_pearson)\n",
    "corrscore_train_pearson = correlation_score(train_va_pearson, train_preds_pearson)\n",
    "\n",
    "mse_test_pearson = mean_squared_error(test_va_PCA, test_preds_pearson)\n",
    "corrscore_test_pearson = correlation_score(test_va_PCA, test_preds_pearson)"
   ]
  },
  {
   "cell_type": "code",
   "execution_count": 11,
   "id": "2b5c9ea0",
   "metadata": {
    "execution": {
     "iopub.execute_input": "2022-12-21T03:09:30.600107Z",
     "iopub.status.busy": "2022-12-21T03:09:30.599784Z",
     "iopub.status.idle": "2022-12-21T03:09:30.605385Z",
     "shell.execute_reply": "2022-12-21T03:09:30.604241Z"
    },
    "papermill": {
     "duration": 0.013348,
     "end_time": "2022-12-21T03:09:30.607101",
     "exception": false,
     "start_time": "2022-12-21T03:09:30.593753",
     "status": "completed"
    },
    "tags": []
   },
   "outputs": [
    {
     "name": "stdout",
     "output_type": "stream",
     "text": [
      "The MSE train for Pearson per patient model is: 2.488560558734378\n",
      "The correlation score train for Pearson per patient model is: 0.4677711132506335\n",
      "The MSE test for Pearson per patient model is: 2.7947769169767334\n",
      "The correlation score test for Pearson per patient model is: 0.41055300542599255\n"
     ]
    }
   ],
   "source": [
    "print(\"The MSE train for Pearson per patient model is:\", mse_train_pearson)\n",
    "print(\"The correlation score train for Pearson per patient model is:\", corrscore_train_pearson)\n",
    "print(\"The MSE test for Pearson per patient model is:\", mse_test_pearson)\n",
    "print(\"The correlation score test for Pearson per patient model is:\", corrscore_test_pearson)"
   ]
  },
  {
   "cell_type": "markdown",
   "id": "4b795b0d",
   "metadata": {
    "papermill": {
     "duration": 0.005038,
     "end_time": "2022-12-21T03:09:30.617336",
     "exception": false,
     "start_time": "2022-12-21T03:09:30.612298",
     "status": "completed"
    },
    "tags": []
   },
   "source": [
    "# 4. Comparison of model performance"
   ]
  },
  {
   "cell_type": "code",
   "execution_count": 12,
   "id": "594afa52",
   "metadata": {
    "execution": {
     "iopub.execute_input": "2022-12-21T03:09:30.629723Z",
     "iopub.status.busy": "2022-12-21T03:09:30.628805Z",
     "iopub.status.idle": "2022-12-21T03:09:30.654670Z",
     "shell.execute_reply": "2022-12-21T03:09:30.653499Z"
    },
    "papermill": {
     "duration": 0.034434,
     "end_time": "2022-12-21T03:09:30.656834",
     "exception": false,
     "start_time": "2022-12-21T03:09:30.622400",
     "status": "completed"
    },
    "tags": []
   },
   "outputs": [
    {
     "data": {
      "text/html": [
       "<div>\n",
       "<style scoped>\n",
       "    .dataframe tbody tr th:only-of-type {\n",
       "        vertical-align: middle;\n",
       "    }\n",
       "\n",
       "    .dataframe tbody tr th {\n",
       "        vertical-align: top;\n",
       "    }\n",
       "\n",
       "    .dataframe thead th {\n",
       "        text-align: right;\n",
       "    }\n",
       "</style>\n",
       "<table border=\"1\" class=\"dataframe\">\n",
       "  <thead>\n",
       "    <tr style=\"text-align: right;\">\n",
       "      <th></th>\n",
       "      <th>PCA All</th>\n",
       "      <th>Pearson-R All</th>\n",
       "      <th>PCA Per-Patient</th>\n",
       "      <th>Pearson-R Per-Patient</th>\n",
       "      <th>SVD + LightGBM</th>\n",
       "    </tr>\n",
       "  </thead>\n",
       "  <tbody>\n",
       "    <tr>\n",
       "      <th>MSE</th>\n",
       "      <td>2.875</td>\n",
       "      <td>2.901</td>\n",
       "      <td>2.810</td>\n",
       "      <td>2.795</td>\n",
       "      <td>2.751</td>\n",
       "    </tr>\n",
       "    <tr>\n",
       "      <th>Correlation Score</th>\n",
       "      <td>0.870</td>\n",
       "      <td>0.875</td>\n",
       "      <td>0.362</td>\n",
       "      <td>0.411</td>\n",
       "      <td>0.878</td>\n",
       "    </tr>\n",
       "  </tbody>\n",
       "</table>\n",
       "</div>"
      ],
      "text/plain": [
       "                   PCA All  Pearson-R All  PCA Per-Patient  \\\n",
       "MSE                  2.875          2.901            2.810   \n",
       "Correlation Score    0.870          0.875            0.362   \n",
       "\n",
       "                   Pearson-R Per-Patient  SVD + LightGBM  \n",
       "MSE                                2.795           2.751  \n",
       "Correlation Score                  0.411           0.878  "
      ]
     },
     "execution_count": 12,
     "metadata": {},
     "output_type": "execute_result"
    }
   ],
   "source": [
    "# create dataframe with columns = models, rows = metrics (MSE and correlation score)\n",
    "df = pd.DataFrame({\"PCA All\": [2.875, 0.870],\n",
    "                   \"Pearson-R All\": [2.901, 0.875],\n",
    "                   \"PCA Per-Patient\": [2.810, 0.362],\n",
    "                   \"Pearson-R Per-Patient\": [2.795, 0.411],\n",
    "                   \"SVD + LightGBM\": [2.751, 0.878],\n",
    "})\n",
    "df.index = [\"MSE\", \"Correlation Score\"]\n",
    "df"
   ]
  },
  {
   "cell_type": "code",
   "execution_count": 13,
   "id": "9ed54c1c",
   "metadata": {
    "execution": {
     "iopub.execute_input": "2022-12-21T03:09:30.669801Z",
     "iopub.status.busy": "2022-12-21T03:09:30.669444Z",
     "iopub.status.idle": "2022-12-21T03:09:30.829856Z",
     "shell.execute_reply": "2022-12-21T03:09:30.828816Z"
    },
    "papermill": {
     "duration": 0.169119,
     "end_time": "2022-12-21T03:09:30.831807",
     "exception": false,
     "start_time": "2022-12-21T03:09:30.662688",
     "status": "completed"
    },
    "tags": []
   },
   "outputs": [
    {
     "data": {
      "image/png": "[encoded data removed]",
      "text/plain": [
       "<Figure size 864x432 with 1 Axes>"
      ]
     },
     "metadata": {
      "needs_background": "light"
     },
     "output_type": "display_data"
    }
   ],
   "source": [
    "# visualize MSE across 5 models\n",
    "fig, ax = plt.subplots(figsize=(12,6))\n",
    "x = np.arange(len(df.columns))\n",
    "plt1 = ax.bar(x, df.loc[\"MSE\",:], width = .5)\n",
    "ax.set_ylabel('MSE', fontsize=20)\n",
    "ax.set_xticks(x)\n",
    "ax.set_xticklabels(list(df.columns))\n",
    "plt.show()"
   ]
  },
  {
   "cell_type": "code",
   "execution_count": 14,
   "id": "8644e3ac",
   "metadata": {
    "execution": {
     "iopub.execute_input": "2022-12-21T03:09:30.844447Z",
     "iopub.status.busy": "2022-12-21T03:09:30.844158Z",
     "iopub.status.idle": "2022-12-21T03:09:30.973563Z",
     "shell.execute_reply": "2022-12-21T03:09:30.972728Z"
    },
    "papermill": {
     "duration": 0.137723,
     "end_time": "2022-12-21T03:09:30.975386",
     "exception": false,
     "start_time": "2022-12-21T03:09:30.837663",
     "status": "completed"
    },
    "tags": []
   },
   "outputs": [
    {
     "data": {
      "image/png": "[encoded data removed]",
      "text/plain": [
       "<Figure size 864x432 with 1 Axes>"
      ]
     },
     "metadata": {
      "needs_background": "light"
     },
     "output_type": "display_data"
    }
   ],
   "source": [
    "# visualize correlation scores across 5 models\n",
    "fig, ax = plt.subplots(figsize=(12,6))\n",
    "x = np.arange(len(df.columns))\n",
    "plt1 = ax.bar(x, df.loc[\"Correlation Score\",:], width = .5, color=\"green\")\n",
    "ax.set_ylabel('Correlation Score', fontsize=20)\n",
    "ax.set_xticks(x)\n",
    "ax.set_xticklabels(list(df.columns))\n",
    "plt.show()"
   ]
  }
 ],
 "metadata": {
  "kernelspec": {
   "display_name": "Python 3",
   "language": "python",
   "name": "python3"
  },
  "language_info": {
   "codemirror_mode": {
    "name": "ipython",
    "version": 3
   },
   "file_extension": ".py",
   "mimetype": "text/x-python",
   "name": "python",
   "nbconvert_exporter": "python",
   "pygments_lexer": "ipython3",
   "version": "3.7.12"
  },
  "papermill": {
   "default_parameters": {},
   "duration": 22.939019,
   "end_time": "2022-12-21T03:09:31.604631",
   "environment_variables": {},
   "exception": null,
   "input_path": "__notebook__.ipynb",
   "output_path": "__notebook__.ipynb",
   "parameters": {},
   "start_time": "2022-12-21T03:09:08.665612",
   "version": "2.3.4"
  }
 },
 "nbformat": 4,
 "nbformat_minor": 5
}
