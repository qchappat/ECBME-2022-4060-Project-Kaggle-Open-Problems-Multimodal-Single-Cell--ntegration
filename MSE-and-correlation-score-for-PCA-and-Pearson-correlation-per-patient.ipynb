{
 "cells": [
  {
   "cell_type": "markdown",
   "id": "538b14e1",
   "metadata": {
    "papermill": {
     "duration": 0.006283,
     "end_time": "2022-12-18T19:46:09.690797",
     "exception": false,
     "start_time": "2022-12-18T19:46:09.684514",
     "status": "completed"
    },
    "tags": []
   },
   "source": [
    "# 1. Importation of packages and metrics functions"
   ]
  },
  {
   "cell_type": "code",
   "execution_count": 1,
   "id": "7fec130e",
   "metadata": {
    "_cell_guid": "b1076dfc-b9ad-4769-8c92-a6c4dae69d19",
    "_uuid": "8f2839f25d086af736a60e9eeb907d3b93b6e0e5",
    "execution": {
     "iopub.execute_input": "2022-12-18T19:46:09.703712Z",
     "iopub.status.busy": "2022-12-18T19:46:09.703146Z",
     "iopub.status.idle": "2022-12-18T19:46:10.941456Z",
     "shell.execute_reply": "2022-12-18T19:46:10.939985Z"
    },
    "papermill": {
     "duration": 1.249709,
     "end_time": "2022-12-18T19:46:10.945427",
     "exception": false,
     "start_time": "2022-12-18T19:46:09.695718",
     "status": "completed"
    },
    "tags": []
   },
   "outputs": [],
   "source": [
    "import numpy as np\n",
    "import pandas as pd\n",
    "from sklearn.metrics import mean_squared_error"
   ]
  },
  {
   "cell_type": "code",
   "execution_count": 2,
   "id": "96b0bcf6",
   "metadata": {
    "execution": {
     "iopub.execute_input": "2022-12-18T19:46:10.957772Z",
     "iopub.status.busy": "2022-12-18T19:46:10.957283Z",
     "iopub.status.idle": "2022-12-18T19:46:10.965429Z",
     "shell.execute_reply": "2022-12-18T19:46:10.964116Z"
    },
    "papermill": {
     "duration": 0.017781,
     "end_time": "2022-12-18T19:46:10.968601",
     "exception": false,
     "start_time": "2022-12-18T19:46:10.950820",
     "status": "completed"
    },
    "tags": []
   },
   "outputs": [],
   "source": [
    "def correlation_score(y_true, y_pred):\n",
    "    \"\"\"Scores the predictions according to the competition rules. \n",
    "    \n",
    "    It is assumed that the predictions are not constant.\n",
    "    \n",
    "    Returns the average of each sample's Pearson correlation coefficient\"\"\"\n",
    "    if type(y_true) == pd.DataFrame: y_true = y_true.values\n",
    "    if type(y_pred) == pd.DataFrame: y_pred = y_pred.values\n",
    "    corrsum = 0\n",
    "    for i in range(len(y_true)):\n",
    "        corrsum += np.corrcoef(y_true[i], y_pred[i])[1, 0]\n",
    "    return corrsum / len(y_true)"
   ]
  },
  {
   "cell_type": "markdown",
   "id": "f80d3047",
   "metadata": {
    "papermill": {
     "duration": 0.004359,
     "end_time": "2022-12-18T19:46:10.977981",
     "exception": false,
     "start_time": "2022-12-18T19:46:10.973622",
     "status": "completed"
    },
    "tags": []
   },
   "source": [
    "# 2. PCA per patient model"
   ]
  },
  {
   "cell_type": "markdown",
   "id": "8e8b1689",
   "metadata": {
    "papermill": {
     "duration": 0.004467,
     "end_time": "2022-12-18T19:46:10.987088",
     "exception": false,
     "start_time": "2022-12-18T19:46:10.982621",
     "status": "completed"
    },
    "tags": []
   },
   "source": [
    "## 2.1. Importation of the results' files"
   ]
  },
  {
   "cell_type": "code",
   "execution_count": 3,
   "id": "4e0c9907",
   "metadata": {
    "execution": {
     "iopub.execute_input": "2022-12-18T19:46:10.998820Z",
     "iopub.status.busy": "2022-12-18T19:46:10.998091Z",
     "iopub.status.idle": "2022-12-18T19:46:12.468128Z",
     "shell.execute_reply": "2022-12-18T19:46:12.466718Z"
    },
    "papermill": {
     "duration": 1.479271,
     "end_time": "2022-12-18T19:46:12.471005",
     "exception": false,
     "start_time": "2022-12-18T19:46:10.991734",
     "status": "completed"
    },
    "tags": []
   },
   "outputs": [],
   "source": [
    "test_preds_PCA_1 = np.load(\"/kaggle/input/openproblemdataquentinchappat/PCA per patient/1/test_preds_PCA_1.npy\")\n",
    "test_va_PCA_1 = np.load(\"/kaggle/input/openproblemdataquentinchappat/PCA per patient/1/test_va_PCA_1.npy\")\n",
    "train_preds_PCA_1 = np.load(\"/kaggle/input/openproblemdataquentinchappat/PCA per patient/1/train_preds_PCA_1.npy\")\n",
    "train_va_PCA_1 = np.load(\"/kaggle/input/openproblemdataquentinchappat/PCA per patient/1/train_va_PCA_1.npy\")\n",
    "test_preds_PCA_2 = np.load(\"/kaggle/input/openproblemdataquentinchappat/PCA per patient/2/test_preds_PCA_2.npy\")\n",
    "test_va_PCA_2 = np.load(\"/kaggle/input/openproblemdataquentinchappat/PCA per patient/2/test_va_PCA_2.npy\")\n",
    "train_preds_PCA_2 = np.load(\"/kaggle/input/openproblemdataquentinchappat/PCA per patient/2/train_preds_PCA_2.npy\")\n",
    "train_va_PCA_2 = np.load(\"/kaggle/input/openproblemdataquentinchappat/PCA per patient/2/train_va_PCA_2.npy\")\n",
    "test_preds_PCA_3 = np.load(\"/kaggle/input/openproblemdataquentinchappat/PCA per patient/3/test_preds_PCA_3.npy\")\n",
    "test_va_PCA_3 = np.load(\"/kaggle/input/openproblemdataquentinchappat/PCA per patient/3/test_va_PCA_3.npy\")\n",
    "train_preds_PCA_3 = np.load(\"/kaggle/input/openproblemdataquentinchappat/PCA per patient/3/train_preds_PCA_3.npy\")\n",
    "train_va_PCA_3 = np.load(\"/kaggle/input/openproblemdataquentinchappat/PCA per patient/3/train_va_PCA_3.npy\")\n",
    "test_preds_PCA_4 = np.load(\"/kaggle/input/openproblemdataquentinchappat/PCA per patient/4/test_preds_PCA_4.npy\")\n",
    "test_va_PCA_4 = np.load(\"/kaggle/input/openproblemdataquentinchappat/PCA per patient/4/test_va_PCA_4.npy\")\n",
    "train_preds_PCA_4 = np.load(\"/kaggle/input/openproblemdataquentinchappat/PCA per patient/4/train_preds_PCA_4.npy\")\n",
    "train_va_PCA_4 = np.load(\"/kaggle/input/openproblemdataquentinchappat/PCA per patient/4/train_va_PCA_4.npy\")"
   ]
  },
  {
   "cell_type": "markdown",
   "id": "774593cf",
   "metadata": {
    "papermill": {
     "duration": 0.004684,
     "end_time": "2022-12-18T19:46:12.480468",
     "exception": false,
     "start_time": "2022-12-18T19:46:12.475784",
     "status": "completed"
    },
    "tags": []
   },
   "source": [
    "## 2.2. Concatenation of the results in one array"
   ]
  },
  {
   "cell_type": "code",
   "execution_count": 4,
   "id": "2b68372c",
   "metadata": {
    "execution": {
     "iopub.execute_input": "2022-12-18T19:46:12.492595Z",
     "iopub.status.busy": "2022-12-18T19:46:12.492111Z",
     "iopub.status.idle": "2022-12-18T19:46:12.639554Z",
     "shell.execute_reply": "2022-12-18T19:46:12.638026Z"
    },
    "papermill": {
     "duration": 0.15727,
     "end_time": "2022-12-18T19:46:12.642820",
     "exception": false,
     "start_time": "2022-12-18T19:46:12.485550",
     "status": "completed"
    },
    "tags": []
   },
   "outputs": [],
   "source": [
    "test_preds_PCA = np.concatenate((test_preds_PCA_1, test_preds_PCA_2, test_preds_PCA_3, test_preds_PCA_4))\n",
    "test_va_PCA = np.concatenate((test_va_PCA_1, test_va_PCA_2, test_va_PCA_3, test_va_PCA_4))\n",
    "train_preds_PCA = np.concatenate((train_preds_PCA_1, train_preds_PCA_2, train_preds_PCA_3, train_preds_PCA_4))\n",
    "train_va_PCA = np.concatenate((train_va_PCA_1, train_va_PCA_2, train_va_PCA_3, train_va_PCA_4))"
   ]
  },
  {
   "cell_type": "markdown",
   "id": "f660d7f5",
   "metadata": {
    "papermill": {
     "duration": 0.005094,
     "end_time": "2022-12-18T19:46:12.652895",
     "exception": false,
     "start_time": "2022-12-18T19:46:12.647801",
     "status": "completed"
    },
    "tags": []
   },
   "source": [
    "## 2.3. Computation of the results"
   ]
  },
  {
   "cell_type": "code",
   "execution_count": 5,
   "id": "006c7948",
   "metadata": {
    "execution": {
     "iopub.execute_input": "2022-12-18T19:46:12.664425Z",
     "iopub.status.busy": "2022-12-18T19:46:12.663969Z",
     "iopub.status.idle": "2022-12-18T19:46:12.913211Z",
     "shell.execute_reply": "2022-12-18T19:46:12.911599Z"
    },
    "papermill": {
     "duration": 0.258475,
     "end_time": "2022-12-18T19:46:12.916208",
     "exception": false,
     "start_time": "2022-12-18T19:46:12.657733",
     "status": "completed"
    },
    "tags": []
   },
   "outputs": [],
   "source": [
    "mse_train_PCA = mean_squared_error(train_va_PCA, train_preds_PCA)\n",
    "corrscore_train_PCA = correlation_score(train_va_PCA, train_preds_PCA)\n",
    "\n",
    "mse_test_PCA = mean_squared_error(test_va_PCA, test_preds_PCA)\n",
    "corrscore_test_PCA = correlation_score(test_va_PCA, test_preds_PCA)"
   ]
  },
  {
   "cell_type": "code",
   "execution_count": 6,
   "id": "ef2ef5c0",
   "metadata": {
    "execution": {
     "iopub.execute_input": "2022-12-18T19:46:12.931509Z",
     "iopub.status.busy": "2022-12-18T19:46:12.930825Z",
     "iopub.status.idle": "2022-12-18T19:46:12.940636Z",
     "shell.execute_reply": "2022-12-18T19:46:12.939381Z"
    },
    "papermill": {
     "duration": 0.023411,
     "end_time": "2022-12-18T19:46:12.944462",
     "exception": false,
     "start_time": "2022-12-18T19:46:12.921051",
     "status": "completed"
    },
    "tags": []
   },
   "outputs": [
    {
     "name": "stdout",
     "output_type": "stream",
     "text": [
      "The MSE train for PCA per patient model is: 2.175620334147274\n",
      "The correlation score train for PCA per patient model is: 0.4630287759184809\n",
      "The MSE test for PCA per patient model is: 2.8098649888187164\n",
      "The correlation score test for PCA per patient model is: 0.3615834370787006\n"
     ]
    }
   ],
   "source": [
    "print(\"The MSE train for PCA per patient model is:\", mse_train_PCA)\n",
    "print(\"The correlation score train for PCA per patient model is:\", corrscore_train_PCA)\n",
    "print(\"The MSE test for PCA per patient model is:\", mse_test_PCA)\n",
    "print(\"The correlation score test for PCA per patient model is:\", corrscore_test_PCA)"
   ]
  },
  {
   "cell_type": "markdown",
   "id": "3b5b8032",
   "metadata": {
    "papermill": {
     "duration": 0.004433,
     "end_time": "2022-12-18T19:46:12.953726",
     "exception": false,
     "start_time": "2022-12-18T19:46:12.949293",
     "status": "completed"
    },
    "tags": []
   },
   "source": [
    "# 3. Pearson correlation per patient model"
   ]
  },
  {
   "cell_type": "markdown",
   "id": "fc17037f",
   "metadata": {
    "papermill": {
     "duration": 0.004438,
     "end_time": "2022-12-18T19:46:12.962816",
     "exception": false,
     "start_time": "2022-12-18T19:46:12.958378",
     "status": "completed"
    },
    "tags": []
   },
   "source": [
    "## 3.1. Importation of the results' files"
   ]
  },
  {
   "cell_type": "code",
   "execution_count": 7,
   "id": "283a1dab",
   "metadata": {
    "execution": {
     "iopub.execute_input": "2022-12-18T19:46:12.974604Z",
     "iopub.status.busy": "2022-12-18T19:46:12.973803Z",
     "iopub.status.idle": "2022-12-18T19:46:14.264552Z",
     "shell.execute_reply": "2022-12-18T19:46:14.263236Z"
    },
    "papermill": {
     "duration": 1.300302,
     "end_time": "2022-12-18T19:46:14.267745",
     "exception": false,
     "start_time": "2022-12-18T19:46:12.967443",
     "status": "completed"
    },
    "tags": []
   },
   "outputs": [],
   "source": [
    "test_preds_pearson_1 = np.load(\"/kaggle/input/openproblemdataquentinchappat/Pearson per patient/1/test_preds_pearson_1.npy\")\n",
    "test_va_pearson_1 = np.load(\"/kaggle/input/openproblemdataquentinchappat/Pearson per patient/1/test_va_pearson_1.npy\")\n",
    "train_preds_pearson_1 = np.load(\"/kaggle/input/openproblemdataquentinchappat/Pearson per patient/1/train_preds_pearson_1.npy\")\n",
    "train_va_pearson_1 = np.load(\"/kaggle/input/openproblemdataquentinchappat/Pearson per patient/1/train_va_pearson_1.npy\")\n",
    "test_preds_pearson_2 = np.load(\"/kaggle/input/openproblemdataquentinchappat/Pearson per patient/2/test_preds_pearson_2.npy\")\n",
    "test_va_pearson_2 = np.load(\"/kaggle/input/openproblemdataquentinchappat/Pearson per patient/2/test_va_pearson_2.npy\")\n",
    "train_preds_pearson_2 = np.load(\"/kaggle/input/openproblemdataquentinchappat/Pearson per patient/2/train_preds_pearson_2.npy\")\n",
    "train_va_pearson_2 = np.load(\"/kaggle/input/openproblemdataquentinchappat/Pearson per patient/2/train_va_pearson_2.npy\")\n",
    "test_preds_pearson_3 = np.load(\"/kaggle/input/openproblemdataquentinchappat/Pearson per patient/3/test_preds_pearson_3.npy\")\n",
    "test_va_pearson_3 = np.load(\"/kaggle/input/openproblemdataquentinchappat/Pearson per patient/3/test_va_pearson_3.npy\")\n",
    "train_preds_pearson_3 = np.load(\"/kaggle/input/openproblemdataquentinchappat/Pearson per patient/3/train_preds_pearson_3.npy\")\n",
    "train_va_pearson_3 = np.load(\"/kaggle/input/openproblemdataquentinchappat/Pearson per patient/3/train_va_pearson_3.npy\")"
   ]
  },
  {
   "cell_type": "markdown",
   "id": "b7837ffa",
   "metadata": {
    "papermill": {
     "duration": 0.005248,
     "end_time": "2022-12-18T19:46:14.278537",
     "exception": false,
     "start_time": "2022-12-18T19:46:14.273289",
     "status": "completed"
    },
    "tags": []
   },
   "source": [
    "## 3.2. Concatenation of the results in one array"
   ]
  },
  {
   "cell_type": "code",
   "execution_count": 8,
   "id": "3ad6ca9c",
   "metadata": {
    "execution": {
     "iopub.execute_input": "2022-12-18T19:46:14.290796Z",
     "iopub.status.busy": "2022-12-18T19:46:14.290344Z",
     "iopub.status.idle": "2022-12-18T19:46:14.386148Z",
     "shell.execute_reply": "2022-12-18T19:46:14.384883Z"
    },
    "papermill": {
     "duration": 0.105669,
     "end_time": "2022-12-18T19:46:14.389398",
     "exception": false,
     "start_time": "2022-12-18T19:46:14.283729",
     "status": "completed"
    },
    "tags": []
   },
   "outputs": [],
   "source": [
    "test_preds_pearson = np.concatenate((test_preds_pearson_1, test_preds_pearson_2, test_preds_pearson_3))\n",
    "test_va_pearson = np.concatenate((test_va_pearson_1, test_va_pearson_2, test_va_pearson_3))\n",
    "train_preds_pearson = np.concatenate((train_preds_pearson_1, train_preds_pearson_2, train_preds_pearson_3))\n",
    "train_va_pearson = np.concatenate((train_va_pearson_1, train_va_pearson_2, train_va_pearson_3))"
   ]
  },
  {
   "cell_type": "markdown",
   "id": "563a238a",
   "metadata": {
    "papermill": {
     "duration": 0.004773,
     "end_time": "2022-12-18T19:46:14.399550",
     "exception": false,
     "start_time": "2022-12-18T19:46:14.394777",
     "status": "completed"
    },
    "tags": []
   },
   "source": [
    "## 3.3. Computation of the results"
   ]
  },
  {
   "cell_type": "code",
   "execution_count": 9,
   "id": "31b298ed",
   "metadata": {
    "execution": {
     "iopub.execute_input": "2022-12-18T19:46:14.411631Z",
     "iopub.status.busy": "2022-12-18T19:46:14.411174Z",
     "iopub.status.idle": "2022-12-18T19:46:14.608322Z",
     "shell.execute_reply": "2022-12-18T19:46:14.607150Z"
    },
    "papermill": {
     "duration": 0.206714,
     "end_time": "2022-12-18T19:46:14.611454",
     "exception": false,
     "start_time": "2022-12-18T19:46:14.404740",
     "status": "completed"
    },
    "tags": []
   },
   "outputs": [],
   "source": [
    "mse_train_pearson = mean_squared_error(train_va_pearson, train_preds_pearson)\n",
    "corrscore_train_pearson = correlation_score(train_va_pearson, train_preds_pearson)\n",
    "\n",
    "mse_test_pearson = mean_squared_error(test_va_PCA, test_preds_pearson)\n",
    "corrscore_test_pearson = correlation_score(test_va_PCA, test_preds_pearson)"
   ]
  },
  {
   "cell_type": "code",
   "execution_count": 10,
   "id": "b53c8d4d",
   "metadata": {
    "execution": {
     "iopub.execute_input": "2022-12-18T19:46:14.624412Z",
     "iopub.status.busy": "2022-12-18T19:46:14.623282Z",
     "iopub.status.idle": "2022-12-18T19:46:14.631728Z",
     "shell.execute_reply": "2022-12-18T19:46:14.630060Z"
    },
    "papermill": {
     "duration": 0.019401,
     "end_time": "2022-12-18T19:46:14.635745",
     "exception": false,
     "start_time": "2022-12-18T19:46:14.616344",
     "status": "completed"
    },
    "tags": []
   },
   "outputs": [
    {
     "name": "stdout",
     "output_type": "stream",
     "text": [
      "The MSE train for Pearson per patient model is: 2.488560558734378\n",
      "The correlation score train for Pearson per patient model is: 0.4677711132506335\n",
      "The MSE test for Pearson per patient model is: 2.7947769169767334\n",
      "The correlation score test for Pearson per patient model is: 0.41055300542599255\n"
     ]
    }
   ],
   "source": [
    "print(\"The MSE train for Pearson per patient model is:\", mse_train_pearson)\n",
    "print(\"The correlation score train for Pearson per patient model is:\", corrscore_train_pearson)\n",
    "print(\"The MSE test for Pearson per patient model is:\", mse_test_pearson)\n",
    "print(\"The correlation score test for Pearson per patient model is:\", corrscore_test_pearson)"
   ]
  }
 ],
 "metadata": {
  "kernelspec": {
   "display_name": "Python 3",
   "language": "python",
   "name": "python3"
  },
  "language_info": {
   "codemirror_mode": {
    "name": "ipython",
    "version": 3
   },
   "file_extension": ".py",
   "mimetype": "text/x-python",
   "name": "python",
   "nbconvert_exporter": "python",
   "pygments_lexer": "ipython3",
   "version": "3.7.12"
  },
  "papermill": {
   "default_parameters": {},
   "duration": 15.177783,
   "end_time": "2022-12-18T19:46:15.566667",
   "environment_variables": {},
   "exception": null,
   "input_path": "__notebook__.ipynb",
   "output_path": "__notebook__.ipynb",
   "parameters": {},
   "start_time": "2022-12-18T19:46:00.388884",
   "version": "2.3.4"
  }
 },
 "nbformat": 4,
 "nbformat_minor": 5
}
